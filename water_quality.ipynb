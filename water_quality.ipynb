{
 "cells": [
  {
   "cell_type": "markdown",
   "id": "736a5732-012e-44b5-8686-2971a7eafe42",
   "metadata": {
    "tags": []
   },
   "source": [
    "# General information\n",
    "\n",
    "## Dataset\n",
    "\n",
    "## Features\n",
    "**Units**\n",
    "- ppm: parts per million\n",
    "- μg/L: microgram per litre\n",
    "- mg/L: milligram per litre\n",
    "\n",
    "**Columns**\n",
    "1. ph: pH of 1. water (0 to 14).\n",
    "2. Hardness: Capacity of water to precipitate soap in mg/L.\n",
    "3. Solids: Total dissolved solids in ppm.\n",
    "4. Chloramines: Amount of Chloramines in ppm.\n",
    "5. Sulfate: Amount of Sulfates dissolved in mg/L.\n",
    "6. Conductivity: Electrical conductivity of water in μS/cm.\n",
    "7. Organic_carbon: Amount of organic carbon in ppm.\n",
    "8. Trihalomethanes: Amount of Trihalomethanes in μg/L.\n",
    "9. Turbidity: Measure of light emiting property of water in NTU.\n",
    "10. Potability: Indicates if water is safe for human consumption. Potable -1 and Not potable -0\n",
    "\n",
    "## Findings\n",
    "\n",
    "## Goal\n",
    "Determine if water is safe for human consumption or not.\n",
    "\n",
    "## Source\n",
    "https://www.kaggle.com/datasets/adityakadiwal/water-potability"
   ]
  },
  {
   "cell_type": "code",
   "execution_count": 47,
   "id": "95e19874-0181-4e44-9302-9b4fc2d1495e",
   "metadata": {},
   "outputs": [],
   "source": [
    "import numpy as np\n",
    "import pandas as pd\n",
    "import matplotlib.pyplot as plt\n",
    "from sklearn.model_selection import train_test_split\n",
    "import seaborn as sns"
   ]
  },
  {
   "cell_type": "code",
   "execution_count": 3,
   "id": "7f4622c9-bd78-4aa6-8401-11fc1f5aedf0",
   "metadata": {},
   "outputs": [],
   "source": [
    "data = pd.read_csv(\"./datasets/water_potability.csv\")"
   ]
  },
  {
   "cell_type": "markdown",
   "id": "167bc9c7-46b3-4014-b6bc-84c624265180",
   "metadata": {},
   "source": [
    "# Analysis\n",
    "\n",
    "## Findings\n",
    "* Small negative correlation of sulfate <-> solid\n",
    "* Null values for categories:\n",
    "    * ph\n",
    "    * Sulfate\n",
    "    * Trihalemothanes\n",
    "* Zero duplicates\n"
   ]
  },
  {
   "cell_type": "code",
   "execution_count": 4,
   "id": "d35c5823-d492-489e-b26d-52c2556d17e0",
   "metadata": {},
   "outputs": [
    {
     "data": {
      "text/html": [
       "<div>\n",
       "<style scoped>\n",
       "    .dataframe tbody tr th:only-of-type {\n",
       "        vertical-align: middle;\n",
       "    }\n",
       "\n",
       "    .dataframe tbody tr th {\n",
       "        vertical-align: top;\n",
       "    }\n",
       "\n",
       "    .dataframe thead th {\n",
       "        text-align: right;\n",
       "    }\n",
       "</style>\n",
       "<table border=\"1\" class=\"dataframe\">\n",
       "  <thead>\n",
       "    <tr style=\"text-align: right;\">\n",
       "      <th></th>\n",
       "      <th>ph</th>\n",
       "      <th>Hardness</th>\n",
       "      <th>Solids</th>\n",
       "      <th>Chloramines</th>\n",
       "      <th>Sulfate</th>\n",
       "      <th>Conductivity</th>\n",
       "      <th>Organic_carbon</th>\n",
       "      <th>Trihalomethanes</th>\n",
       "      <th>Turbidity</th>\n",
       "      <th>Potability</th>\n",
       "    </tr>\n",
       "  </thead>\n",
       "  <tbody>\n",
       "    <tr>\n",
       "      <th>0</th>\n",
       "      <td>NaN</td>\n",
       "      <td>204.890455</td>\n",
       "      <td>20791.318981</td>\n",
       "      <td>7.300212</td>\n",
       "      <td>368.516441</td>\n",
       "      <td>564.308654</td>\n",
       "      <td>10.379783</td>\n",
       "      <td>86.990970</td>\n",
       "      <td>2.963135</td>\n",
       "      <td>0</td>\n",
       "    </tr>\n",
       "    <tr>\n",
       "      <th>1</th>\n",
       "      <td>3.716080</td>\n",
       "      <td>129.422921</td>\n",
       "      <td>18630.057858</td>\n",
       "      <td>6.635246</td>\n",
       "      <td>NaN</td>\n",
       "      <td>592.885359</td>\n",
       "      <td>15.180013</td>\n",
       "      <td>56.329076</td>\n",
       "      <td>4.500656</td>\n",
       "      <td>0</td>\n",
       "    </tr>\n",
       "    <tr>\n",
       "      <th>2</th>\n",
       "      <td>8.099124</td>\n",
       "      <td>224.236259</td>\n",
       "      <td>19909.541732</td>\n",
       "      <td>9.275884</td>\n",
       "      <td>NaN</td>\n",
       "      <td>418.606213</td>\n",
       "      <td>16.868637</td>\n",
       "      <td>66.420093</td>\n",
       "      <td>3.055934</td>\n",
       "      <td>0</td>\n",
       "    </tr>\n",
       "    <tr>\n",
       "      <th>3</th>\n",
       "      <td>8.316766</td>\n",
       "      <td>214.373394</td>\n",
       "      <td>22018.417441</td>\n",
       "      <td>8.059332</td>\n",
       "      <td>356.886136</td>\n",
       "      <td>363.266516</td>\n",
       "      <td>18.436524</td>\n",
       "      <td>100.341674</td>\n",
       "      <td>4.628771</td>\n",
       "      <td>0</td>\n",
       "    </tr>\n",
       "    <tr>\n",
       "      <th>4</th>\n",
       "      <td>9.092223</td>\n",
       "      <td>181.101509</td>\n",
       "      <td>17978.986339</td>\n",
       "      <td>6.546600</td>\n",
       "      <td>310.135738</td>\n",
       "      <td>398.410813</td>\n",
       "      <td>11.558279</td>\n",
       "      <td>31.997993</td>\n",
       "      <td>4.075075</td>\n",
       "      <td>0</td>\n",
       "    </tr>\n",
       "  </tbody>\n",
       "</table>\n",
       "</div>"
      ],
      "text/plain": [
       "         ph    Hardness        Solids  Chloramines     Sulfate  Conductivity   \n",
       "0       NaN  204.890455  20791.318981     7.300212  368.516441    564.308654  \\\n",
       "1  3.716080  129.422921  18630.057858     6.635246         NaN    592.885359   \n",
       "2  8.099124  224.236259  19909.541732     9.275884         NaN    418.606213   \n",
       "3  8.316766  214.373394  22018.417441     8.059332  356.886136    363.266516   \n",
       "4  9.092223  181.101509  17978.986339     6.546600  310.135738    398.410813   \n",
       "\n",
       "   Organic_carbon  Trihalomethanes  Turbidity  Potability  \n",
       "0       10.379783        86.990970   2.963135           0  \n",
       "1       15.180013        56.329076   4.500656           0  \n",
       "2       16.868637        66.420093   3.055934           0  \n",
       "3       18.436524       100.341674   4.628771           0  \n",
       "4       11.558279        31.997993   4.075075           0  "
      ]
     },
     "execution_count": 4,
     "metadata": {},
     "output_type": "execute_result"
    }
   ],
   "source": [
    "data.head()"
   ]
  },
  {
   "cell_type": "code",
   "execution_count": 9,
   "id": "01659803-6dec-44e8-adc5-fd48856f329f",
   "metadata": {},
   "outputs": [
    {
     "data": {
      "text/html": [
       "<div>\n",
       "<style scoped>\n",
       "    .dataframe tbody tr th:only-of-type {\n",
       "        vertical-align: middle;\n",
       "    }\n",
       "\n",
       "    .dataframe tbody tr th {\n",
       "        vertical-align: top;\n",
       "    }\n",
       "\n",
       "    .dataframe thead th {\n",
       "        text-align: right;\n",
       "    }\n",
       "</style>\n",
       "<table border=\"1\" class=\"dataframe\">\n",
       "  <thead>\n",
       "    <tr style=\"text-align: right;\">\n",
       "      <th></th>\n",
       "      <th>ph</th>\n",
       "      <th>Hardness</th>\n",
       "      <th>Solids</th>\n",
       "      <th>Chloramines</th>\n",
       "      <th>Sulfate</th>\n",
       "      <th>Conductivity</th>\n",
       "      <th>Organic_carbon</th>\n",
       "      <th>Trihalomethanes</th>\n",
       "      <th>Turbidity</th>\n",
       "      <th>Potability</th>\n",
       "    </tr>\n",
       "  </thead>\n",
       "  <tbody>\n",
       "    <tr>\n",
       "      <th>count</th>\n",
       "      <td>2785.000000</td>\n",
       "      <td>3276.000000</td>\n",
       "      <td>3276.000000</td>\n",
       "      <td>3276.000000</td>\n",
       "      <td>2495.000000</td>\n",
       "      <td>3276.000000</td>\n",
       "      <td>3276.000000</td>\n",
       "      <td>3114.000000</td>\n",
       "      <td>3276.000000</td>\n",
       "      <td>3276.000000</td>\n",
       "    </tr>\n",
       "    <tr>\n",
       "      <th>mean</th>\n",
       "      <td>7.080795</td>\n",
       "      <td>196.369496</td>\n",
       "      <td>22014.092526</td>\n",
       "      <td>7.122277</td>\n",
       "      <td>333.775777</td>\n",
       "      <td>426.205111</td>\n",
       "      <td>14.284970</td>\n",
       "      <td>66.396293</td>\n",
       "      <td>3.966786</td>\n",
       "      <td>0.390110</td>\n",
       "    </tr>\n",
       "    <tr>\n",
       "      <th>std</th>\n",
       "      <td>1.594320</td>\n",
       "      <td>32.879761</td>\n",
       "      <td>8768.570828</td>\n",
       "      <td>1.583085</td>\n",
       "      <td>41.416840</td>\n",
       "      <td>80.824064</td>\n",
       "      <td>3.308162</td>\n",
       "      <td>16.175008</td>\n",
       "      <td>0.780382</td>\n",
       "      <td>0.487849</td>\n",
       "    </tr>\n",
       "    <tr>\n",
       "      <th>min</th>\n",
       "      <td>0.000000</td>\n",
       "      <td>47.432000</td>\n",
       "      <td>320.942611</td>\n",
       "      <td>0.352000</td>\n",
       "      <td>129.000000</td>\n",
       "      <td>181.483754</td>\n",
       "      <td>2.200000</td>\n",
       "      <td>0.738000</td>\n",
       "      <td>1.450000</td>\n",
       "      <td>0.000000</td>\n",
       "    </tr>\n",
       "    <tr>\n",
       "      <th>25%</th>\n",
       "      <td>6.093092</td>\n",
       "      <td>176.850538</td>\n",
       "      <td>15666.690297</td>\n",
       "      <td>6.127421</td>\n",
       "      <td>307.699498</td>\n",
       "      <td>365.734414</td>\n",
       "      <td>12.065801</td>\n",
       "      <td>55.844536</td>\n",
       "      <td>3.439711</td>\n",
       "      <td>0.000000</td>\n",
       "    </tr>\n",
       "    <tr>\n",
       "      <th>50%</th>\n",
       "      <td>7.036752</td>\n",
       "      <td>196.967627</td>\n",
       "      <td>20927.833607</td>\n",
       "      <td>7.130299</td>\n",
       "      <td>333.073546</td>\n",
       "      <td>421.884968</td>\n",
       "      <td>14.218338</td>\n",
       "      <td>66.622485</td>\n",
       "      <td>3.955028</td>\n",
       "      <td>0.000000</td>\n",
       "    </tr>\n",
       "    <tr>\n",
       "      <th>75%</th>\n",
       "      <td>8.062066</td>\n",
       "      <td>216.667456</td>\n",
       "      <td>27332.762127</td>\n",
       "      <td>8.114887</td>\n",
       "      <td>359.950170</td>\n",
       "      <td>481.792304</td>\n",
       "      <td>16.557652</td>\n",
       "      <td>77.337473</td>\n",
       "      <td>4.500320</td>\n",
       "      <td>1.000000</td>\n",
       "    </tr>\n",
       "    <tr>\n",
       "      <th>max</th>\n",
       "      <td>14.000000</td>\n",
       "      <td>323.124000</td>\n",
       "      <td>61227.196008</td>\n",
       "      <td>13.127000</td>\n",
       "      <td>481.030642</td>\n",
       "      <td>753.342620</td>\n",
       "      <td>28.300000</td>\n",
       "      <td>124.000000</td>\n",
       "      <td>6.739000</td>\n",
       "      <td>1.000000</td>\n",
       "    </tr>\n",
       "  </tbody>\n",
       "</table>\n",
       "</div>"
      ],
      "text/plain": [
       "                ph     Hardness        Solids  Chloramines      Sulfate   \n",
       "count  2785.000000  3276.000000   3276.000000  3276.000000  2495.000000  \\\n",
       "mean      7.080795   196.369496  22014.092526     7.122277   333.775777   \n",
       "std       1.594320    32.879761   8768.570828     1.583085    41.416840   \n",
       "min       0.000000    47.432000    320.942611     0.352000   129.000000   \n",
       "25%       6.093092   176.850538  15666.690297     6.127421   307.699498   \n",
       "50%       7.036752   196.967627  20927.833607     7.130299   333.073546   \n",
       "75%       8.062066   216.667456  27332.762127     8.114887   359.950170   \n",
       "max      14.000000   323.124000  61227.196008    13.127000   481.030642   \n",
       "\n",
       "       Conductivity  Organic_carbon  Trihalomethanes    Turbidity   Potability  \n",
       "count   3276.000000     3276.000000      3114.000000  3276.000000  3276.000000  \n",
       "mean     426.205111       14.284970        66.396293     3.966786     0.390110  \n",
       "std       80.824064        3.308162        16.175008     0.780382     0.487849  \n",
       "min      181.483754        2.200000         0.738000     1.450000     0.000000  \n",
       "25%      365.734414       12.065801        55.844536     3.439711     0.000000  \n",
       "50%      421.884968       14.218338        66.622485     3.955028     0.000000  \n",
       "75%      481.792304       16.557652        77.337473     4.500320     1.000000  \n",
       "max      753.342620       28.300000       124.000000     6.739000     1.000000  "
      ]
     },
     "execution_count": 9,
     "metadata": {},
     "output_type": "execute_result"
    }
   ],
   "source": [
    "data.describe()"
   ]
  },
  {
   "cell_type": "code",
   "execution_count": 10,
   "id": "fbcef3ee-8af4-4d3e-b1e8-9a9aee7a1f93",
   "metadata": {},
   "outputs": [
    {
     "name": "stdout",
     "output_type": "stream",
     "text": [
      "<class 'pandas.core.frame.DataFrame'>\n",
      "RangeIndex: 3276 entries, 0 to 3275\n",
      "Data columns (total 10 columns):\n",
      " #   Column           Non-Null Count  Dtype  \n",
      "---  ------           --------------  -----  \n",
      " 0   ph               2785 non-null   float64\n",
      " 1   Hardness         3276 non-null   float64\n",
      " 2   Solids           3276 non-null   float64\n",
      " 3   Chloramines      3276 non-null   float64\n",
      " 4   Sulfate          2495 non-null   float64\n",
      " 5   Conductivity     3276 non-null   float64\n",
      " 6   Organic_carbon   3276 non-null   float64\n",
      " 7   Trihalomethanes  3114 non-null   float64\n",
      " 8   Turbidity        3276 non-null   float64\n",
      " 9   Potability       3276 non-null   int64  \n",
      "dtypes: float64(9), int64(1)\n",
      "memory usage: 256.1 KB\n"
     ]
    }
   ],
   "source": [
    "data.info()"
   ]
  },
  {
   "cell_type": "code",
   "execution_count": 18,
   "id": "ae0fd468-e486-4984-be66-d3e45b46cc30",
   "metadata": {},
   "outputs": [
    {
     "data": {
      "text/html": [
       "<div>\n",
       "<style scoped>\n",
       "    .dataframe tbody tr th:only-of-type {\n",
       "        vertical-align: middle;\n",
       "    }\n",
       "\n",
       "    .dataframe tbody tr th {\n",
       "        vertical-align: top;\n",
       "    }\n",
       "\n",
       "    .dataframe thead th {\n",
       "        text-align: right;\n",
       "    }\n",
       "</style>\n",
       "<table border=\"1\" class=\"dataframe\">\n",
       "  <thead>\n",
       "    <tr style=\"text-align: right;\">\n",
       "      <th></th>\n",
       "      <th>ph</th>\n",
       "      <th>Hardness</th>\n",
       "      <th>Solids</th>\n",
       "      <th>Chloramines</th>\n",
       "      <th>Sulfate</th>\n",
       "      <th>Conductivity</th>\n",
       "      <th>Organic_carbon</th>\n",
       "      <th>Trihalomethanes</th>\n",
       "      <th>Turbidity</th>\n",
       "      <th>Potability</th>\n",
       "    </tr>\n",
       "  </thead>\n",
       "  <tbody>\n",
       "    <tr>\n",
       "      <th>ph</th>\n",
       "      <td>1.000000</td>\n",
       "      <td>0.082096</td>\n",
       "      <td>-0.089288</td>\n",
       "      <td>-0.034350</td>\n",
       "      <td>0.018203</td>\n",
       "      <td>0.018614</td>\n",
       "      <td>0.043503</td>\n",
       "      <td>0.003354</td>\n",
       "      <td>-0.039057</td>\n",
       "      <td>-0.003556</td>\n",
       "    </tr>\n",
       "    <tr>\n",
       "      <th>Hardness</th>\n",
       "      <td>0.082096</td>\n",
       "      <td>1.000000</td>\n",
       "      <td>-0.046899</td>\n",
       "      <td>-0.030054</td>\n",
       "      <td>-0.106923</td>\n",
       "      <td>-0.023915</td>\n",
       "      <td>0.003610</td>\n",
       "      <td>-0.013013</td>\n",
       "      <td>-0.014449</td>\n",
       "      <td>-0.013837</td>\n",
       "    </tr>\n",
       "    <tr>\n",
       "      <th>Solids</th>\n",
       "      <td>-0.089288</td>\n",
       "      <td>-0.046899</td>\n",
       "      <td>1.000000</td>\n",
       "      <td>-0.070148</td>\n",
       "      <td>-0.171804</td>\n",
       "      <td>0.013831</td>\n",
       "      <td>0.010242</td>\n",
       "      <td>-0.009143</td>\n",
       "      <td>0.019546</td>\n",
       "      <td>0.033743</td>\n",
       "    </tr>\n",
       "    <tr>\n",
       "      <th>Chloramines</th>\n",
       "      <td>-0.034350</td>\n",
       "      <td>-0.030054</td>\n",
       "      <td>-0.070148</td>\n",
       "      <td>1.000000</td>\n",
       "      <td>0.027244</td>\n",
       "      <td>-0.020486</td>\n",
       "      <td>-0.012653</td>\n",
       "      <td>0.017084</td>\n",
       "      <td>0.002363</td>\n",
       "      <td>0.023779</td>\n",
       "    </tr>\n",
       "    <tr>\n",
       "      <th>Sulfate</th>\n",
       "      <td>0.018203</td>\n",
       "      <td>-0.106923</td>\n",
       "      <td>-0.171804</td>\n",
       "      <td>0.027244</td>\n",
       "      <td>1.000000</td>\n",
       "      <td>-0.016121</td>\n",
       "      <td>0.030831</td>\n",
       "      <td>-0.030274</td>\n",
       "      <td>-0.011187</td>\n",
       "      <td>-0.023577</td>\n",
       "    </tr>\n",
       "    <tr>\n",
       "      <th>Conductivity</th>\n",
       "      <td>0.018614</td>\n",
       "      <td>-0.023915</td>\n",
       "      <td>0.013831</td>\n",
       "      <td>-0.020486</td>\n",
       "      <td>-0.016121</td>\n",
       "      <td>1.000000</td>\n",
       "      <td>0.020966</td>\n",
       "      <td>0.001285</td>\n",
       "      <td>0.005798</td>\n",
       "      <td>-0.008128</td>\n",
       "    </tr>\n",
       "    <tr>\n",
       "      <th>Organic_carbon</th>\n",
       "      <td>0.043503</td>\n",
       "      <td>0.003610</td>\n",
       "      <td>0.010242</td>\n",
       "      <td>-0.012653</td>\n",
       "      <td>0.030831</td>\n",
       "      <td>0.020966</td>\n",
       "      <td>1.000000</td>\n",
       "      <td>-0.013274</td>\n",
       "      <td>-0.027308</td>\n",
       "      <td>-0.030001</td>\n",
       "    </tr>\n",
       "    <tr>\n",
       "      <th>Trihalomethanes</th>\n",
       "      <td>0.003354</td>\n",
       "      <td>-0.013013</td>\n",
       "      <td>-0.009143</td>\n",
       "      <td>0.017084</td>\n",
       "      <td>-0.030274</td>\n",
       "      <td>0.001285</td>\n",
       "      <td>-0.013274</td>\n",
       "      <td>1.000000</td>\n",
       "      <td>-0.022145</td>\n",
       "      <td>0.007130</td>\n",
       "    </tr>\n",
       "    <tr>\n",
       "      <th>Turbidity</th>\n",
       "      <td>-0.039057</td>\n",
       "      <td>-0.014449</td>\n",
       "      <td>0.019546</td>\n",
       "      <td>0.002363</td>\n",
       "      <td>-0.011187</td>\n",
       "      <td>0.005798</td>\n",
       "      <td>-0.027308</td>\n",
       "      <td>-0.022145</td>\n",
       "      <td>1.000000</td>\n",
       "      <td>0.001581</td>\n",
       "    </tr>\n",
       "    <tr>\n",
       "      <th>Potability</th>\n",
       "      <td>-0.003556</td>\n",
       "      <td>-0.013837</td>\n",
       "      <td>0.033743</td>\n",
       "      <td>0.023779</td>\n",
       "      <td>-0.023577</td>\n",
       "      <td>-0.008128</td>\n",
       "      <td>-0.030001</td>\n",
       "      <td>0.007130</td>\n",
       "      <td>0.001581</td>\n",
       "      <td>1.000000</td>\n",
       "    </tr>\n",
       "  </tbody>\n",
       "</table>\n",
       "</div>"
      ],
      "text/plain": [
       "                       ph  Hardness    Solids  Chloramines   Sulfate   \n",
       "ph               1.000000  0.082096 -0.089288    -0.034350  0.018203  \\\n",
       "Hardness         0.082096  1.000000 -0.046899    -0.030054 -0.106923   \n",
       "Solids          -0.089288 -0.046899  1.000000    -0.070148 -0.171804   \n",
       "Chloramines     -0.034350 -0.030054 -0.070148     1.000000  0.027244   \n",
       "Sulfate          0.018203 -0.106923 -0.171804     0.027244  1.000000   \n",
       "Conductivity     0.018614 -0.023915  0.013831    -0.020486 -0.016121   \n",
       "Organic_carbon   0.043503  0.003610  0.010242    -0.012653  0.030831   \n",
       "Trihalomethanes  0.003354 -0.013013 -0.009143     0.017084 -0.030274   \n",
       "Turbidity       -0.039057 -0.014449  0.019546     0.002363 -0.011187   \n",
       "Potability      -0.003556 -0.013837  0.033743     0.023779 -0.023577   \n",
       "\n",
       "                 Conductivity  Organic_carbon  Trihalomethanes  Turbidity   \n",
       "ph                   0.018614        0.043503         0.003354  -0.039057  \\\n",
       "Hardness            -0.023915        0.003610        -0.013013  -0.014449   \n",
       "Solids               0.013831        0.010242        -0.009143   0.019546   \n",
       "Chloramines         -0.020486       -0.012653         0.017084   0.002363   \n",
       "Sulfate             -0.016121        0.030831        -0.030274  -0.011187   \n",
       "Conductivity         1.000000        0.020966         0.001285   0.005798   \n",
       "Organic_carbon       0.020966        1.000000        -0.013274  -0.027308   \n",
       "Trihalomethanes      0.001285       -0.013274         1.000000  -0.022145   \n",
       "Turbidity            0.005798       -0.027308        -0.022145   1.000000   \n",
       "Potability          -0.008128       -0.030001         0.007130   0.001581   \n",
       "\n",
       "                 Potability  \n",
       "ph                -0.003556  \n",
       "Hardness          -0.013837  \n",
       "Solids             0.033743  \n",
       "Chloramines        0.023779  \n",
       "Sulfate           -0.023577  \n",
       "Conductivity      -0.008128  \n",
       "Organic_carbon    -0.030001  \n",
       "Trihalomethanes    0.007130  \n",
       "Turbidity          0.001581  \n",
       "Potability         1.000000  "
      ]
     },
     "execution_count": 18,
     "metadata": {},
     "output_type": "execute_result"
    }
   ],
   "source": [
    "corr_matrix = data.corr()\n",
    "corr_matrix"
   ]
  },
  {
   "cell_type": "code",
   "execution_count": 16,
   "id": "d7505190-5edc-4ebf-bdbc-0d7d5d42b07b",
   "metadata": {},
   "outputs": [
    {
     "data": {
      "text/plain": [
       "Index(['ph', 'Hardness', 'Solids', 'Chloramines', 'Sulfate', 'Conductivity',\n",
       "       'Organic_carbon', 'Trihalomethanes', 'Turbidity', 'Potability'],\n",
       "      dtype='object')"
      ]
     },
     "execution_count": 16,
     "metadata": {},
     "output_type": "execute_result"
    }
   ],
   "source": [
    "data.columns"
   ]
  },
  {
   "cell_type": "code",
   "execution_count": 45,
   "id": "9770ee93-a78a-4d8c-b152-1f1b53fd7567",
   "metadata": {},
   "outputs": [],
   "source": [
    "def top_5_corr(dataframe):\n",
    "    columns = dataframe.columns\n",
    "    corr_matrix = dataframe.corr()\n",
    "    for col in columns:\n",
    "        print(f\"{col} - Top Candidates \\n{corr_matrix[col].loc[lambda x: (x > 0.1) | (x < -0.1)]}) \\n\")\n",
    "    "
   ]
  },
  {
   "cell_type": "code",
   "execution_count": 46,
   "id": "646eba9f-3763-49d1-a99e-104ddf2ec53c",
   "metadata": {},
   "outputs": [
    {
     "name": "stdout",
     "output_type": "stream",
     "text": [
      "ph - Top Candidates \n",
      "ph    1.0\n",
      "Name: ph, dtype: float64) \n",
      "\n",
      "Hardness - Top Candidates \n",
      "Hardness    1.000000\n",
      "Sulfate    -0.106923\n",
      "Name: Hardness, dtype: float64) \n",
      "\n",
      "Solids - Top Candidates \n",
      "Solids     1.000000\n",
      "Sulfate   -0.171804\n",
      "Name: Solids, dtype: float64) \n",
      "\n",
      "Chloramines - Top Candidates \n",
      "Chloramines    1.0\n",
      "Name: Chloramines, dtype: float64) \n",
      "\n",
      "Sulfate - Top Candidates \n",
      "Hardness   -0.106923\n",
      "Solids     -0.171804\n",
      "Sulfate     1.000000\n",
      "Name: Sulfate, dtype: float64) \n",
      "\n",
      "Conductivity - Top Candidates \n",
      "Conductivity    1.0\n",
      "Name: Conductivity, dtype: float64) \n",
      "\n",
      "Organic_carbon - Top Candidates \n",
      "Organic_carbon    1.0\n",
      "Name: Organic_carbon, dtype: float64) \n",
      "\n",
      "Trihalomethanes - Top Candidates \n",
      "Trihalomethanes    1.0\n",
      "Name: Trihalomethanes, dtype: float64) \n",
      "\n",
      "Turbidity - Top Candidates \n",
      "Turbidity    1.0\n",
      "Name: Turbidity, dtype: float64) \n",
      "\n",
      "Potability - Top Candidates \n",
      "Potability    1.0\n",
      "Name: Potability, dtype: float64) \n",
      "\n"
     ]
    }
   ],
   "source": [
    "top_5_corr(data)"
   ]
  },
  {
   "cell_type": "code",
   "execution_count": 48,
   "id": "4351ff13-49d9-4042-bebd-037f852eec12",
   "metadata": {},
   "outputs": [
    {
     "data": {
      "text/plain": [
       "<Axes: >"
      ]
     },
     "execution_count": 48,
     "metadata": {},
     "output_type": "execute_result"
    },
    {
     "data": {
      "image/png": "[encoded data removed]",
      "text/plain": [
       "<Figure size 640x480 with 2 Axes>"
      ]
     },
     "metadata": {},
     "output_type": "display_data"
    }
   ],
   "source": [
    "sns.heatmap(round(corr_matrix,1), annot=True, cmap=\"coolwarm\")"
   ]
  },
  {
   "cell_type": "code",
   "execution_count": 52,
   "id": "4fd32920-5a47-4c03-af5c-091201bc4a7d",
   "metadata": {},
   "outputs": [
    {
     "data": {
      "text/plain": [
       "<Axes: xlabel='Sulfate', ylabel='Solids'>"
      ]
     },
     "execution_count": 52,
     "metadata": {},
     "output_type": "execute_result"
    },
    {
     "data": {
      "image/png": "[encoded data removed]",
      "text/plain": [
       "<Figure size 640x480 with 1 Axes>"
      ]
     },
     "metadata": {},
     "output_type": "display_data"
    }
   ],
   "source": [
    "data.plot(kind=\"scatter\", x=\"Sulfate\", y=\"Solids\", alpha=0.1, grid=True)"
   ]
  },
  {
   "cell_type": "code",
   "execution_count": 53,
   "id": "661031c3-f34f-421b-ba07-c77693228bd3",
   "metadata": {},
   "outputs": [
    {
     "data": {
      "text/plain": [
       "<Axes: xlabel='ph', ylabel='Hardness'>"
      ]
     },
     "execution_count": 53,
     "metadata": {},
     "output_type": "execute_result"
    },
    {
     "data": {
      "image/png": "[encoded data removed]",
      "text/plain": [
       "<Figure size 640x480 with 1 Axes>"
      ]
     },
     "metadata": {},
     "output_type": "display_data"
    }
   ],
   "source": [
    "data.plot(kind=\"scatter\", x=\"ph\", y=\"Hardness\", alpha=0.1,grid=True)"
   ]
  },
  {
   "cell_type": "code",
   "execution_count": null,
   "id": "f86a69a4-b4b5-4dab-840b-4a81cba1911f",
   "metadata": {},
   "outputs": [],
   "source": [
    "data.plot(kind=\"scatter\", x=\"ph\", y=\"Hardness\", alpha=0.1,grid=True)"
   ]
  },
  {
   "cell_type": "code",
   "execution_count": 58,
   "id": "b9a1018b-a368-4362-917a-5fd222c9632b",
   "metadata": {},
   "outputs": [
    {
     "data": {
      "text/plain": [
       "0"
      ]
     },
     "execution_count": 58,
     "metadata": {},
     "output_type": "execute_result"
    }
   ],
   "source": [
    "num_of_duplicates = abs(len(data) - len(data.duplicated()))\n",
    "num_of_duplicates"
   ]
  },
  {
   "cell_type": "markdown",
   "id": "814a41e4-5918-4a41-ad6d-c5305ac76fe7",
   "metadata": {},
   "source": [
    "# Data preparation"
   ]
  },
  {
   "cell_type": "markdown",
   "id": "8af52697-6530-4e66-940d-42ef8e4259f4",
   "metadata": {},
   "source": [
    "## Create training and test set"
   ]
  },
  {
   "cell_type": "code",
   "execution_count": 212,
   "id": "16cfcc34-d2ef-486f-accd-1e9f19e0d5f3",
   "metadata": {},
   "outputs": [],
   "source": [
    "data_copy = data.copy(deep=True)\n",
    "y = data_copy[\"Potability\"]\n",
    "X = data_copy.drop(\"Potability\", axis=1)"
   ]
  },
  {
   "cell_type": "code",
   "execution_count": 213,
   "id": "24d2ecfc-6284-4491-9aaf-2aff28b53730",
   "metadata": {},
   "outputs": [
    {
     "name": "stdout",
     "output_type": "stream",
     "text": [
      "(3276,)\n",
      "(3276, 9)\n"
     ]
    }
   ],
   "source": [
    "print(y.shape)\n",
    "print(X.shape)"
   ]
  },
  {
   "cell_type": "code",
   "execution_count": 104,
   "id": "91b2c292-7b6b-4be3-9e14-e2664c044711",
   "metadata": {},
   "outputs": [],
   "source": [
    "X_train, X_test, y_train, y_test = train_test_split(X,y, random_state=42, test_size=0.2)"
   ]
  },
  {
   "cell_type": "markdown",
   "id": "1ba0b55e-643e-420b-98ff-2ade32904f26",
   "metadata": {},
   "source": [
    "## Set missing null values to some value, using imputation"
   ]
  },
  {
   "cell_type": "markdown",
   "id": "979fc023-10e2-4c9e-a376-c17419858240",
   "metadata": {},
   "source": [
    "### Impute training set"
   ]
  },
  {
   "cell_type": "code",
   "execution_count": 214,
   "id": "b6f31fc2-2c02-4dd6-a41e-433d5777e0f3",
   "metadata": {},
   "outputs": [
    {
     "data": {
      "text/html": [
       "<style>#sk-container-id-14 {color: black;background-color: white;}#sk-container-id-14 pre{padding: 0;}#sk-container-id-14 div.sk-toggleable {background-color: white;}#sk-container-id-14 label.sk-toggleable__label {cursor: pointer;display: block;width: 100%;margin-bottom: 0;padding: 0.3em;box-sizing: border-box;text-align: center;}#sk-container-id-14 label.sk-toggleable__label-arrow:before {content: \"▸\";float: left;margin-right: 0.25em;color: #696969;}#sk-container-id-14 label.sk-toggleable__label-arrow:hover:before {color: black;}#sk-container-id-14 div.sk-estimator:hover label.sk-toggleable__label-arrow:before {color: black;}#sk-container-id-14 div.sk-toggleable__content {max-height: 0;max-width: 0;overflow: hidden;text-align: left;background-color: #f0f8ff;}#sk-container-id-14 div.sk-toggleable__content pre {margin: 0.2em;color: black;border-radius: 0.25em;background-color: #f0f8ff;}#sk-container-id-14 input.sk-toggleable__control:checked~div.sk-toggleable__content {max-height: 200px;max-width: 100%;overflow: auto;}#sk-container-id-14 input.sk-toggleable__control:checked~label.sk-toggleable__label-arrow:before {content: \"▾\";}#sk-container-id-14 div.sk-estimator input.sk-toggleable__control:checked~label.sk-toggleable__label {background-color: #d4ebff;}#sk-container-id-14 div.sk-label input.sk-toggleable__control:checked~label.sk-toggleable__label {background-color: #d4ebff;}#sk-container-id-14 input.sk-hidden--visually {border: 0;clip: rect(1px 1px 1px 1px);clip: rect(1px, 1px, 1px, 1px);height: 1px;margin: -1px;overflow: hidden;padding: 0;position: absolute;width: 1px;}#sk-container-id-14 div.sk-estimator {font-family: monospace;background-color: #f0f8ff;border: 1px dotted black;border-radius: 0.25em;box-sizing: border-box;margin-bottom: 0.5em;}#sk-container-id-14 div.sk-estimator:hover {background-color: #d4ebff;}#sk-container-id-14 div.sk-parallel-item::after {content: \"\";width: 100%;border-bottom: 1px solid gray;flex-grow: 1;}#sk-container-id-14 div.sk-label:hover label.sk-toggleable__label {background-color: #d4ebff;}#sk-container-id-14 div.sk-serial::before {content: \"\";position: absolute;border-left: 1px solid gray;box-sizing: border-box;top: 0;bottom: 0;left: 50%;z-index: 0;}#sk-container-id-14 div.sk-serial {display: flex;flex-direction: column;align-items: center;background-color: white;padding-right: 0.2em;padding-left: 0.2em;position: relative;}#sk-container-id-14 div.sk-item {position: relative;z-index: 1;}#sk-container-id-14 div.sk-parallel {display: flex;align-items: stretch;justify-content: center;background-color: white;position: relative;}#sk-container-id-14 div.sk-item::before, #sk-container-id-14 div.sk-parallel-item::before {content: \"\";position: absolute;border-left: 1px solid gray;box-sizing: border-box;top: 0;bottom: 0;left: 50%;z-index: -1;}#sk-container-id-14 div.sk-parallel-item {display: flex;flex-direction: column;z-index: 1;position: relative;background-color: white;}#sk-container-id-14 div.sk-parallel-item:first-child::after {align-self: flex-end;width: 50%;}#sk-container-id-14 div.sk-parallel-item:last-child::after {align-self: flex-start;width: 50%;}#sk-container-id-14 div.sk-parallel-item:only-child::after {width: 0;}#sk-container-id-14 div.sk-dashed-wrapped {border: 1px dashed gray;margin: 0 0.4em 0.5em 0.4em;box-sizing: border-box;padding-bottom: 0.4em;background-color: white;}#sk-container-id-14 div.sk-label label {font-family: monospace;font-weight: bold;display: inline-block;line-height: 1.2em;}#sk-container-id-14 div.sk-label-container {text-align: center;}#sk-container-id-14 div.sk-container {/* jupyter's `normalize.less` sets `[hidden] { display: none; }` but bootstrap.min.css set `[hidden] { display: none !important; }` so we also need the `!important` here to be able to override the default hidden behavior on the sphinx rendered scikit-learn.org. See: https://github.com/scikit-learn/scikit-learn/issues/21755 */display: inline-block !important;position: relative;}#sk-container-id-14 div.sk-text-repr-fallback {display: none;}</style><div id=\"sk-container-id-14\" class=\"sk-top-container\"><div class=\"sk-text-repr-fallback\"><pre>SimpleImputer(strategy=&#x27;median&#x27;)</pre><b>In a Jupyter environment, please rerun this cell to show the HTML representation or trust the notebook. <br />On GitHub, the HTML representation is unable to render, please try loading this page with nbviewer.org.</b></div><div class=\"sk-container\" hidden><div class=\"sk-item\"><div class=\"sk-estimator sk-toggleable\"><input class=\"sk-toggleable__control sk-hidden--visually\" id=\"sk-estimator-id-14\" type=\"checkbox\" checked><label for=\"sk-estimator-id-14\" class=\"sk-toggleable__label sk-toggleable__label-arrow\">SimpleImputer</label><div class=\"sk-toggleable__content\"><pre>SimpleImputer(strategy=&#x27;median&#x27;)</pre></div></div></div></div></div>"
      ],
      "text/plain": [
       "SimpleImputer(strategy='median')"
      ]
     },
     "execution_count": 214,
     "metadata": {},
     "output_type": "execute_result"
    }
   ],
   "source": [
    "from sklearn.impute import SimpleImputer\n",
    "imputer = SimpleImputer(strategy=\"median\")\n",
    "imputer.fit(X)"
   ]
  },
  {
   "cell_type": "code",
   "execution_count": 215,
   "id": "9d854a27-2e18-4194-877d-58ebe705f62c",
   "metadata": {},
   "outputs": [
    {
     "data": {
      "text/plain": [
       "array(['ph', 'Hardness', 'Solids', 'Chloramines', 'Sulfate',\n",
       "       'Conductivity', 'Organic_carbon', 'Trihalomethanes', 'Turbidity'],\n",
       "      dtype=object)"
      ]
     },
     "execution_count": 215,
     "metadata": {},
     "output_type": "execute_result"
    }
   ],
   "source": [
    "imputer.feature_names_in_"
   ]
  },
  {
   "cell_type": "code",
   "execution_count": 216,
   "id": "daeed3d9-11fb-4df5-a4c2-90cd1e3457c8",
   "metadata": {},
   "outputs": [
    {
     "data": {
      "text/plain": [
       "array([7.03675210e+00, 1.96967627e+02, 2.09278336e+04, 7.13029897e+00,\n",
       "       3.33073546e+02, 4.21884968e+02, 1.42183379e+01, 6.66224851e+01,\n",
       "       3.95502756e+00])"
      ]
     },
     "execution_count": 216,
     "metadata": {},
     "output_type": "execute_result"
    }
   ],
   "source": [
    "imputer.statistics_"
   ]
  },
  {
   "cell_type": "code",
   "execution_count": 217,
   "id": "ffe98add-32c4-42cc-a34e-981c6280c7ee",
   "metadata": {},
   "outputs": [],
   "source": [
    "X = imputer.transform(X)"
   ]
  },
  {
   "cell_type": "code",
   "execution_count": 218,
   "id": "a94310e7-11b4-4107-a64f-afbc555cccce",
   "metadata": {},
   "outputs": [],
   "source": [
    "X = pd.DataFrame(X, columns=imputer.feature_names_in_)"
   ]
  },
  {
   "cell_type": "code",
   "execution_count": 219,
   "id": "225973d4-7530-4aa1-96f5-0fd65d90a03b",
   "metadata": {},
   "outputs": [
    {
     "name": "stdout",
     "output_type": "stream",
     "text": [
      "<class 'pandas.core.frame.DataFrame'>\n",
      "RangeIndex: 3276 entries, 0 to 3275\n",
      "Data columns (total 9 columns):\n",
      " #   Column           Non-Null Count  Dtype  \n",
      "---  ------           --------------  -----  \n",
      " 0   ph               3276 non-null   float64\n",
      " 1   Hardness         3276 non-null   float64\n",
      " 2   Solids           3276 non-null   float64\n",
      " 3   Chloramines      3276 non-null   float64\n",
      " 4   Sulfate          3276 non-null   float64\n",
      " 5   Conductivity     3276 non-null   float64\n",
      " 6   Organic_carbon   3276 non-null   float64\n",
      " 7   Trihalomethanes  3276 non-null   float64\n",
      " 8   Turbidity        3276 non-null   float64\n",
      "dtypes: float64(9)\n",
      "memory usage: 230.5 KB\n"
     ]
    }
   ],
   "source": [
    "X.info()"
   ]
  },
  {
   "cell_type": "code",
   "execution_count": 220,
   "id": "f3a0f213-87d6-49e1-95ac-10e26d58247e",
   "metadata": {},
   "outputs": [],
   "source": [
    "X_train, X_test, y_train, y_test = train_test_split(X,y, random_state=42, test_size=0.2)"
   ]
  },
  {
   "cell_type": "code",
   "execution_count": 221,
   "id": "0385de48-4c2a-445d-bf5d-7f20daa8981a",
   "metadata": {},
   "outputs": [
    {
     "name": "stdout",
     "output_type": "stream",
     "text": [
      "<class 'pandas.core.frame.DataFrame'>\n",
      "Index: 656 entries, 2947 to 601\n",
      "Data columns (total 9 columns):\n",
      " #   Column           Non-Null Count  Dtype  \n",
      "---  ------           --------------  -----  \n",
      " 0   ph               656 non-null    float64\n",
      " 1   Hardness         656 non-null    float64\n",
      " 2   Solids           656 non-null    float64\n",
      " 3   Chloramines      656 non-null    float64\n",
      " 4   Sulfate          656 non-null    float64\n",
      " 5   Conductivity     656 non-null    float64\n",
      " 6   Organic_carbon   656 non-null    float64\n",
      " 7   Trihalomethanes  656 non-null    float64\n",
      " 8   Turbidity        656 non-null    float64\n",
      "dtypes: float64(9)\n",
      "memory usage: 51.2 KB\n"
     ]
    }
   ],
   "source": [
    "X_test.info()"
   ]
  },
  {
   "cell_type": "markdown",
   "id": "7526f700-11da-4b34-bcfa-b117aa366156",
   "metadata": {},
   "source": [
    "# Training the models"
   ]
  },
  {
   "cell_type": "markdown",
   "id": "af950c99-7cc6-4d10-a924-6114783551c5",
   "metadata": {},
   "source": [
    "## Logistic regression model"
   ]
  },
  {
   "cell_type": "code",
   "execution_count": 222,
   "id": "3eae0476-46d1-4a7c-8621-4978bc4532ed",
   "metadata": {},
   "outputs": [
    {
     "data": {
      "text/html": [
       "<div>\n",
       "<style scoped>\n",
       "    .dataframe tbody tr th:only-of-type {\n",
       "        vertical-align: middle;\n",
       "    }\n",
       "\n",
       "    .dataframe tbody tr th {\n",
       "        vertical-align: top;\n",
       "    }\n",
       "\n",
       "    .dataframe thead th {\n",
       "        text-align: right;\n",
       "    }\n",
       "</style>\n",
       "<table border=\"1\" class=\"dataframe\">\n",
       "  <thead>\n",
       "    <tr style=\"text-align: right;\">\n",
       "      <th></th>\n",
       "      <th>ph</th>\n",
       "      <th>Hardness</th>\n",
       "      <th>Solids</th>\n",
       "      <th>Chloramines</th>\n",
       "      <th>Sulfate</th>\n",
       "      <th>Conductivity</th>\n",
       "      <th>Organic_carbon</th>\n",
       "      <th>Trihalomethanes</th>\n",
       "      <th>Turbidity</th>\n",
       "    </tr>\n",
       "  </thead>\n",
       "  <tbody>\n",
       "    <tr>\n",
       "      <th>233</th>\n",
       "      <td>6.623614</td>\n",
       "      <td>203.030141</td>\n",
       "      <td>17167.301297</td>\n",
       "      <td>6.049601</td>\n",
       "      <td>311.726288</td>\n",
       "      <td>410.243247</td>\n",
       "      <td>15.914500</td>\n",
       "      <td>65.021229</td>\n",
       "      <td>2.915166</td>\n",
       "    </tr>\n",
       "    <tr>\n",
       "      <th>831</th>\n",
       "      <td>6.684700</td>\n",
       "      <td>193.840931</td>\n",
       "      <td>34157.184474</td>\n",
       "      <td>9.876574</td>\n",
       "      <td>344.535407</td>\n",
       "      <td>498.063996</td>\n",
       "      <td>8.818757</td>\n",
       "      <td>66.659352</td>\n",
       "      <td>4.030660</td>\n",
       "    </tr>\n",
       "    <tr>\n",
       "      <th>2658</th>\n",
       "      <td>6.836060</td>\n",
       "      <td>205.667718</td>\n",
       "      <td>18321.327502</td>\n",
       "      <td>6.712854</td>\n",
       "      <td>297.837188</td>\n",
       "      <td>494.484249</td>\n",
       "      <td>13.808923</td>\n",
       "      <td>70.714225</td>\n",
       "      <td>4.952508</td>\n",
       "    </tr>\n",
       "    <tr>\n",
       "      <th>2495</th>\n",
       "      <td>7.036752</td>\n",
       "      <td>183.488839</td>\n",
       "      <td>12675.938962</td>\n",
       "      <td>9.777807</td>\n",
       "      <td>319.870584</td>\n",
       "      <td>482.445026</td>\n",
       "      <td>13.309723</td>\n",
       "      <td>46.853410</td>\n",
       "      <td>3.240419</td>\n",
       "    </tr>\n",
       "    <tr>\n",
       "      <th>2603</th>\n",
       "      <td>6.406798</td>\n",
       "      <td>182.885137</td>\n",
       "      <td>17851.064021</td>\n",
       "      <td>7.462758</td>\n",
       "      <td>332.486731</td>\n",
       "      <td>398.779746</td>\n",
       "      <td>17.301617</td>\n",
       "      <td>64.070236</td>\n",
       "      <td>4.573968</td>\n",
       "    </tr>\n",
       "  </tbody>\n",
       "</table>\n",
       "</div>"
      ],
      "text/plain": [
       "            ph    Hardness        Solids  Chloramines     Sulfate   \n",
       "233   6.623614  203.030141  17167.301297     6.049601  311.726288  \\\n",
       "831   6.684700  193.840931  34157.184474     9.876574  344.535407   \n",
       "2658  6.836060  205.667718  18321.327502     6.712854  297.837188   \n",
       "2495  7.036752  183.488839  12675.938962     9.777807  319.870584   \n",
       "2603  6.406798  182.885137  17851.064021     7.462758  332.486731   \n",
       "\n",
       "      Conductivity  Organic_carbon  Trihalomethanes  Turbidity  \n",
       "233     410.243247       15.914500        65.021229   2.915166  \n",
       "831     498.063996        8.818757        66.659352   4.030660  \n",
       "2658    494.484249       13.808923        70.714225   4.952508  \n",
       "2495    482.445026       13.309723        46.853410   3.240419  \n",
       "2603    398.779746       17.301617        64.070236   4.573968  "
      ]
     },
     "execution_count": 222,
     "metadata": {},
     "output_type": "execute_result"
    }
   ],
   "source": [
    "X_train.head()"
   ]
  },
  {
   "cell_type": "code",
   "execution_count": 223,
   "id": "bdd52e88-ec40-49fc-a372-01a399feed5b",
   "metadata": {},
   "outputs": [],
   "source": [
    "from sklearn.linear_model import LogisticRegression\n",
    "lin_alg = LogisticRegression(random_state=42, max_iter=100).fit(X_train,y_train)\n",
    "lin_alg_2 = LogisticRegression()"
   ]
  },
  {
   "cell_type": "code",
   "execution_count": 143,
   "id": "4f352497-c0b0-490d-975c-42dcd754b76c",
   "metadata": {},
   "outputs": [
    {
     "data": {
      "text/plain": [
       "0.6280487804878049"
      ]
     },
     "execution_count": 143,
     "metadata": {},
     "output_type": "execute_result"
    }
   ],
   "source": [
    "lin_alg.score(X_test, y_test)"
   ]
  },
  {
   "cell_type": "code",
   "execution_count": 224,
   "id": "29b82147-14d2-43ff-b685-b6429f3f444c",
   "metadata": {},
   "outputs": [
    {
     "data": {
      "text/plain": [
       "0.6280487804878049"
      ]
     },
     "execution_count": 224,
     "metadata": {},
     "output_type": "execute_result"
    }
   ],
   "source": [
    "lin_alg.score(X_test, y_test)"
   ]
  },
  {
   "cell_type": "code",
   "execution_count": 148,
   "id": "08c7a5cd-ac5d-45d2-86ae-210a3cdceafd",
   "metadata": {},
   "outputs": [],
   "source": [
    "from sklearn.model_selection import cross_val_score"
   ]
  },
  {
   "cell_type": "code",
   "execution_count": 372,
   "id": "ef552962-45e2-4eda-87c4-bd993a35389f",
   "metadata": {},
   "outputs": [
    {
     "name": "stderr",
     "output_type": "stream",
     "text": [
      "/Users/chams/miniconda3/lib/python3.10/site-packages/sklearn/linear_model/_logistic.py:458: ConvergenceWarning: lbfgs failed to converge (status=1):\n",
      "STOP: TOTAL NO. of ITERATIONS REACHED LIMIT.\n",
      "\n",
      "Increase the number of iterations (max_iter) or scale the data as shown in:\n",
      "    https://scikit-learn.org/stable/modules/preprocessing.html\n",
      "Please also refer to the documentation for alternative solver options:\n",
      "    https://scikit-learn.org/stable/modules/linear_model.html#logistic-regression\n",
      "  n_iter_i = _check_optimize_result(\n"
     ]
    },
    {
     "data": {
      "text/plain": [
       "array([0.6097561 , 0.6097561 , 0.6097561 , 0.6097561 , 0.6097561 ,\n",
       "       0.6097561 , 0.6116208 , 0.6116208 , 0.60856269, 0.60856269])"
      ]
     },
     "execution_count": 372,
     "metadata": {},
     "output_type": "execute_result"
    }
   ],
   "source": [
    "cross_val_lg1 = cross_val_score(LogisticRegression(random_state=42, max_iter=100), selected_X,y,cv=10)\n",
    "cross_val_lg1"
   ]
  },
  {
   "cell_type": "code",
   "execution_count": 145,
   "id": "b7108498-0e41-4b55-80a6-adce1710ca33",
   "metadata": {},
   "outputs": [
    {
     "data": {
      "text/plain": [
       "(3276, 9)"
      ]
     },
     "execution_count": 145,
     "metadata": {},
     "output_type": "execute_result"
    }
   ],
   "source": [
    "X.shape"
   ]
  },
  {
   "cell_type": "code",
   "execution_count": 146,
   "id": "f5cca0e7-4bf0-48ec-8bb8-507f697ed499",
   "metadata": {},
   "outputs": [
    {
     "data": {
      "text/plain": [
       "(3276,)"
      ]
     },
     "execution_count": 146,
     "metadata": {},
     "output_type": "execute_result"
    }
   ],
   "source": [
    "y.shape"
   ]
  },
  {
   "cell_type": "markdown",
   "id": "13148c4f-cd27-4a41-a0b1-9e92ac452a94",
   "metadata": {},
   "source": [
    "## Decision Tree Classifier"
   ]
  },
  {
   "cell_type": "code",
   "execution_count": 225,
   "id": "f38edf4b-74a2-487c-ad2b-a7292bb985f2",
   "metadata": {},
   "outputs": [],
   "source": [
    "from sklearn.tree import DecisionTreeClassifier\n"
   ]
  },
  {
   "cell_type": "code",
   "execution_count": 226,
   "id": "ed80aa83-48d4-47d1-9e20-f4e83fbdd280",
   "metadata": {},
   "outputs": [],
   "source": [
    "dtc = DecisionTreeClassifier()"
   ]
  },
  {
   "cell_type": "code",
   "execution_count": 227,
   "id": "9945aef3-bbfb-43c7-be70-6b6afc786598",
   "metadata": {},
   "outputs": [],
   "source": [
    "cross_val_scores = cross_val_score(dtc, X, y, cv=10)"
   ]
  },
  {
   "cell_type": "code",
   "execution_count": 228,
   "id": "f22d3386-2823-45a6-a0b9-844c2c374e7f",
   "metadata": {},
   "outputs": [
    {
     "data": {
      "text/plain": [
       "array([0.54573171, 0.53353659, 0.63719512, 0.54878049, 0.56402439,\n",
       "       0.52134146, 0.50764526, 0.59021407, 0.56269113, 0.5412844 ])"
      ]
     },
     "execution_count": 228,
     "metadata": {},
     "output_type": "execute_result"
    }
   ],
   "source": [
    "cross_val_scores"
   ]
  },
  {
   "cell_type": "code",
   "execution_count": 371,
   "id": "6f1a4274-7917-465f-a231-321a2ef232bc",
   "metadata": {},
   "outputs": [
    {
     "data": {
      "text/plain": [
       "array([0.52743902, 0.56097561, 0.54573171, 0.54878049, 0.54268293,\n",
       "       0.57621951, 0.5412844 , 0.55351682, 0.56880734, 0.53211009])"
      ]
     },
     "execution_count": 371,
     "metadata": {},
     "output_type": "execute_result"
    }
   ],
   "source": [
    "cross_val_dtc = cross_val_score(DecisionTreeClassifier(), selected_X, y, cv=10)\n",
    "cross_val_dtc"
   ]
  },
  {
   "cell_type": "markdown",
   "id": "e26c8128-3f05-439f-a19c-b6dba96b3eda",
   "metadata": {},
   "source": [
    "## Random Forest Classifier"
   ]
  },
  {
   "cell_type": "code",
   "execution_count": 229,
   "id": "a5b313cc-d34f-4e66-a70f-30a5fac48a68",
   "metadata": {},
   "outputs": [],
   "source": [
    "from sklearn.ensemble import RandomForestClassifier"
   ]
  },
  {
   "cell_type": "code",
   "execution_count": 244,
   "id": "343964a3-cb45-466f-8d26-874a33ddacb2",
   "metadata": {},
   "outputs": [],
   "source": [
    "clf = RandomForestClassifier(max_depth=5, random_state=0)"
   ]
  },
  {
   "cell_type": "code",
   "execution_count": 245,
   "id": "e9543696-1c10-4eb3-9dcc-fcbca2e80842",
   "metadata": {
    "tags": []
   },
   "outputs": [],
   "source": [
    "cvs_clf = cross_val_score(clf, X,y,cv=10)"
   ]
  },
  {
   "cell_type": "code",
   "execution_count": 246,
   "id": "0b239871-5312-4ce7-bafd-5258ddcc247f",
   "metadata": {},
   "outputs": [
    {
     "data": {
      "text/plain": [
       "array([0.62804878, 0.61890244, 0.62804878, 0.62804878, 0.63109756,\n",
       "       0.59146341, 0.59633028, 0.6146789 , 0.63302752, 0.6146789 ])"
      ]
     },
     "execution_count": 246,
     "metadata": {},
     "output_type": "execute_result"
    }
   ],
   "source": [
    "cvs_clf"
   ]
  },
  {
   "cell_type": "markdown",
   "id": "af81f7f1-f2d8-44cb-9bf4-456b3fe61c46",
   "metadata": {},
   "source": [
    "## Support Vector Classifier"
   ]
  },
  {
   "cell_type": "code",
   "execution_count": 234,
   "id": "862c129c-acaa-440a-ab22-4e785c362da9",
   "metadata": {},
   "outputs": [],
   "source": [
    "from sklearn.svm import SVC\n"
   ]
  },
  {
   "cell_type": "code",
   "execution_count": 239,
   "id": "cd646c54-87ab-45aa-a772-303f3dcb7a07",
   "metadata": {},
   "outputs": [],
   "source": [
    "svc = SVC()"
   ]
  },
  {
   "cell_type": "code",
   "execution_count": 241,
   "id": "a1bc66d7-835c-4e34-b949-a909285284da",
   "metadata": {},
   "outputs": [],
   "source": [
    "cvs_svc = cross_val_score(svc, X,y,cv=10)"
   ]
  },
  {
   "cell_type": "code",
   "execution_count": 243,
   "id": "0bbe4eca-fdf2-48ea-9f90-c86ab6e5f200",
   "metadata": {},
   "outputs": [
    {
     "data": {
      "text/plain": [
       "array([0.6097561 , 0.6097561 , 0.6097561 , 0.6097561 , 0.6097561 ,\n",
       "       0.6097561 , 0.6116208 , 0.6116208 , 0.60856269, 0.60856269])"
      ]
     },
     "execution_count": 243,
     "metadata": {},
     "output_type": "execute_result"
    }
   ],
   "source": [
    "cvs_svc"
   ]
  },
  {
   "cell_type": "code",
   "execution_count": 370,
   "id": "dac4df9d-1c4d-4ca2-8fc6-fc8733f39982",
   "metadata": {},
   "outputs": [
    {
     "data": {
      "text/plain": [
       "array([0.6097561 , 0.6097561 , 0.6097561 , 0.6097561 , 0.6097561 ,\n",
       "       0.6097561 , 0.6116208 , 0.6116208 , 0.60856269, 0.60856269])"
      ]
     },
     "execution_count": 370,
     "metadata": {},
     "output_type": "execute_result"
    }
   ],
   "source": [
    "cvs_svc2 = cross_val_score(SVC(), selected_X,y,cv=10)\n",
    "cvs_svc2"
   ]
  },
  {
   "cell_type": "markdown",
   "id": "69bbc05c-46d7-4f2b-8563-5ad76116023e",
   "metadata": {},
   "source": [
    "## Stochastic Gradient descent"
   ]
  },
  {
   "cell_type": "code",
   "execution_count": 248,
   "id": "e677783b-5404-49c4-808d-ac0e7c547c2d",
   "metadata": {},
   "outputs": [],
   "source": [
    "from sklearn.linear_model import SGDClassifier"
   ]
  },
  {
   "cell_type": "code",
   "execution_count": 260,
   "id": "cc480c54-c7be-4f8b-8f17-724690066301",
   "metadata": {},
   "outputs": [],
   "source": [
    "sgd = SGDClassifier(loss=\"hinge\", penalty=\"l2\", max_iter=200)"
   ]
  },
  {
   "cell_type": "code",
   "execution_count": 261,
   "id": "1e40c684-12e4-4b1c-b309-10ae7acc3353",
   "metadata": {},
   "outputs": [],
   "source": [
    "sgd = sgd.fit(X_train, y_train)"
   ]
  },
  {
   "cell_type": "code",
   "execution_count": 262,
   "id": "afb663fd-15e4-46fe-83ba-fe8fe3209dd9",
   "metadata": {},
   "outputs": [
    {
     "data": {
      "text/plain": [
       "0.6280487804878049"
      ]
     },
     "execution_count": 262,
     "metadata": {},
     "output_type": "execute_result"
    }
   ],
   "source": [
    "sgd.score(X_test, y_test)"
   ]
  },
  {
   "cell_type": "code",
   "execution_count": 265,
   "id": "0b9c54f9-00f7-448a-9e22-1a258816249f",
   "metadata": {},
   "outputs": [],
   "source": [
    "cross_val_sgd = cross_val_score(SGDClassifier(loss=\"hinge\", penalty=\"l2\", max_iter=200), X,y, cv=15)"
   ]
  },
  {
   "cell_type": "code",
   "execution_count": 266,
   "id": "7e6f921b-b3a4-4ac8-8745-b66dfeb0edf8",
   "metadata": {},
   "outputs": [
    {
     "data": {
      "text/plain": [
       "array([0.38812785, 0.38812785, 0.38812785, 0.60730594, 0.60730594,\n",
       "       0.60730594, 0.61009174, 0.61926606, 0.38990826, 0.61009174,\n",
       "       0.61009174, 0.39908257, 0.61009174, 0.3853211 , 0.61009174])"
      ]
     },
     "execution_count": 266,
     "metadata": {},
     "output_type": "execute_result"
    }
   ],
   "source": [
    "cross_val_sgd"
   ]
  },
  {
   "cell_type": "code",
   "execution_count": 368,
   "id": "4c7d235f-41fb-4ef5-b715-ed292a7e7220",
   "metadata": {},
   "outputs": [],
   "source": [
    "cross_val_sgd = cross_val_score(SGDClassifier(loss=\"hinge\", penalty=\"l2\", max_iter=300), selected_X,y, cv=10)"
   ]
  },
  {
   "cell_type": "code",
   "execution_count": 369,
   "id": "d0e6f1c2-6141-4ed4-889a-a660b1633ca7",
   "metadata": {},
   "outputs": [
    {
     "data": {
      "text/plain": [
       "array([0.6097561 , 0.6097561 , 0.6097561 , 0.6097561 , 0.3902439 ,\n",
       "       0.6097561 , 0.6116208 , 0.60856269, 0.39143731, 0.60856269])"
      ]
     },
     "execution_count": 369,
     "metadata": {},
     "output_type": "execute_result"
    }
   ],
   "source": [
    "cross_val_sgd"
   ]
  },
  {
   "cell_type": "markdown",
   "id": "c24b39b3-fe58-465b-a4b4-12429779a113",
   "metadata": {},
   "source": [
    "## Multilayer perceptron"
   ]
  },
  {
   "cell_type": "code",
   "execution_count": 267,
   "id": "917b1fb1-443f-4ac4-a0b8-5a277db91d76",
   "metadata": {},
   "outputs": [],
   "source": [
    "from sklearn.neural_network import MLPClassifier"
   ]
  },
  {
   "cell_type": "code",
   "execution_count": 268,
   "id": "a349ae0c-5dc6-4900-bf39-c72f34498c4c",
   "metadata": {},
   "outputs": [],
   "source": [
    "mlp = MLPClassifier(solver=\"lbfgs\", alpha=1e-5, hidden_layer_sizes=(5,2), random_state=1)"
   ]
  },
  {
   "cell_type": "code",
   "execution_count": 269,
   "id": "dfa12058-c2ba-4d32-b644-934b74ea3396",
   "metadata": {},
   "outputs": [],
   "source": [
    "mlp = mlp.fit(X_train,y_train)"
   ]
  },
  {
   "cell_type": "code",
   "execution_count": 270,
   "id": "be19ca6d-fc3b-43a1-a0eb-6780550d780a",
   "metadata": {},
   "outputs": [
    {
     "data": {
      "text/plain": [
       "0.6280487804878049"
      ]
     },
     "execution_count": 270,
     "metadata": {},
     "output_type": "execute_result"
    }
   ],
   "source": [
    "mlp.score(X_test,y_test)"
   ]
  },
  {
   "cell_type": "markdown",
   "id": "8265d59d-e2aa-4313-a2a9-124a04e07bde",
   "metadata": {},
   "source": [
    "## Adaptive Boost Classifier"
   ]
  },
  {
   "cell_type": "code",
   "execution_count": 271,
   "id": "62506d4c-7dfb-4e46-9b23-bd8dfc4b1127",
   "metadata": {},
   "outputs": [],
   "source": [
    "from sklearn.ensemble import AdaBoostClassifier"
   ]
  },
  {
   "cell_type": "code",
   "execution_count": 272,
   "id": "473db435-6474-4873-8100-bdda791140dc",
   "metadata": {},
   "outputs": [],
   "source": [
    "abc = AdaBoostClassifier(random_state=42)"
   ]
  },
  {
   "cell_type": "code",
   "execution_count": 274,
   "id": "1fc5ddb0-2008-441b-96c6-59df3882602b",
   "metadata": {},
   "outputs": [],
   "source": [
    "abc = abc.fit(X_train,y_train)"
   ]
  },
  {
   "cell_type": "code",
   "execution_count": 275,
   "id": "f5fda650-c95e-4067-a052-a7c4372b8f9e",
   "metadata": {},
   "outputs": [
    {
     "data": {
      "text/plain": [
       "0.6204268292682927"
      ]
     },
     "execution_count": 275,
     "metadata": {},
     "output_type": "execute_result"
    }
   ],
   "source": [
    "abc.score(X_test,y_test)"
   ]
  },
  {
   "cell_type": "code",
   "execution_count": 360,
   "id": "bf507ed2-dd75-4030-9505-2069b74c68dc",
   "metadata": {},
   "outputs": [
    {
     "data": {
      "text/plain": [
       "array([0.61280488, 0.61890244, 0.68597561, 0.64329268, 0.63109756,\n",
       "       0.5152439 , 0.51681957, 0.6146789 , 0.63302752, 0.56880734])"
      ]
     },
     "execution_count": 360,
     "metadata": {},
     "output_type": "execute_result"
    }
   ],
   "source": [
    "cross_val_abc = cross_val_score(AdaBoostClassifier(random_state=42), selected_X,y,cv=10)\n",
    "cross_val_abc"
   ]
  },
  {
   "cell_type": "markdown",
   "id": "f6181794-ee45-4f2f-9229-2aa62ccb12f6",
   "metadata": {},
   "source": [
    "## Naive Bayes"
   ]
  },
  {
   "cell_type": "code",
   "execution_count": 276,
   "id": "c3f1c65d-3072-4d66-bf5f-a701ccf08ee6",
   "metadata": {},
   "outputs": [],
   "source": [
    "from sklearn.naive_bayes import GaussianNB"
   ]
  },
  {
   "cell_type": "code",
   "execution_count": 277,
   "id": "90e864f8-9bf0-4299-8fd9-77fb55e15d18",
   "metadata": {},
   "outputs": [],
   "source": [
    "gnb = GaussianNB().fit(X_train,y_train)"
   ]
  },
  {
   "cell_type": "code",
   "execution_count": 278,
   "id": "2ca753e0-d097-4783-8e68-992d921603c3",
   "metadata": {},
   "outputs": [
    {
     "data": {
      "text/plain": [
       "0.6280487804878049"
      ]
     },
     "execution_count": 278,
     "metadata": {},
     "output_type": "execute_result"
    }
   ],
   "source": [
    "gnb.score(X_test, y_test)"
   ]
  },
  {
   "cell_type": "code",
   "execution_count": 361,
   "id": "754c2122-4377-42d6-b217-3f73ccfea561",
   "metadata": {},
   "outputs": [
    {
     "data": {
      "text/plain": [
       "array([0.60365854, 0.63414634, 0.70426829, 0.64329268, 0.65243902,\n",
       "       0.50304878, 0.52293578, 0.64525994, 0.64525994, 0.57186544])"
      ]
     },
     "execution_count": 361,
     "metadata": {},
     "output_type": "execute_result"
    }
   ],
   "source": [
    "cross_val_nb = cross_val_score(GaussianNB(), selected_X,y,cv=10)\n",
    "cross_val_nb"
   ]
  },
  {
   "cell_type": "code",
   "execution_count": 385,
   "id": "2b6172d9-b6bf-4176-aa0e-4913e72f81c9",
   "metadata": {},
   "outputs": [
    {
     "name": "stdout",
     "output_type": "stream",
     "text": [
      "[0.50304878 0.52293578 0.57186544 0.60365854 0.63414634 0.64329268\n",
      " 0.64525994 0.64525994 0.65243902 0.70426829]\n"
     ]
    }
   ],
   "source": [
    "print(np.sort(cross_val_nb))"
   ]
  },
  {
   "cell_type": "markdown",
   "id": "6215d80f-387c-405f-85d1-843c4a108694",
   "metadata": {},
   "source": [
    "## Information Gain"
   ]
  },
  {
   "cell_type": "code",
   "execution_count": 331,
   "id": "64ffad38-d92e-4cba-b9d2-31328dd26691",
   "metadata": {},
   "outputs": [],
   "source": [
    "from sklearn.feature_selection import mutual_info_classif"
   ]
  },
  {
   "cell_type": "code",
   "execution_count": 333,
   "id": "c6fa4887-4cf3-48c8-a5d7-b2805564c65c",
   "metadata": {},
   "outputs": [],
   "source": [
    "importances = mutual_info_classif(X,y)"
   ]
  },
  {
   "cell_type": "code",
   "execution_count": 334,
   "id": "40006897-47cb-4054-993c-6c0f348928b2",
   "metadata": {},
   "outputs": [
    {
     "data": {
      "text/plain": [
       "Index(['ph', 'Hardness', 'Solids', 'Chloramines', 'Sulfate', 'Conductivity',\n",
       "       'Organic_carbon', 'Trihalomethanes', 'Turbidity', 'Potability'],\n",
       "      dtype='object')"
      ]
     },
     "execution_count": 334,
     "metadata": {},
     "output_type": "execute_result"
    }
   ],
   "source": [
    "data_copy.columns"
   ]
  },
  {
   "cell_type": "code",
   "execution_count": 335,
   "id": "186ff44c-32eb-404b-a246-44cd3ea54828",
   "metadata": {},
   "outputs": [],
   "source": [
    "feat_importances = pd.Series(importances, data_copy.columns[0:len(data_copy.columns)-1])"
   ]
  },
  {
   "cell_type": "code",
   "execution_count": 336,
   "id": "b3d21d35-2b72-4ed0-ba62-261083559fd9",
   "metadata": {},
   "outputs": [
    {
     "data": {
      "text/plain": [
       "<Axes: >"
      ]
     },
     "execution_count": 336,
     "metadata": {},
     "output_type": "execute_result"
    },
    {
     "data": {
      "image/png": "[encoded data removed]",
      "text/plain": [
       "<Figure size 640x480 with 1 Axes>"
      ]
     },
     "metadata": {},
     "output_type": "display_data"
    }
   ],
   "source": [
    "feat_importances.plot(kind=\"barh\", color = \"teal\")"
   ]
  },
  {
   "cell_type": "markdown",
   "id": "95d1a1b0-7d7a-47f4-9f9b-8ee2c4d9f7eb",
   "metadata": {},
   "source": [
    "## Feature selection"
   ]
  },
  {
   "cell_type": "code",
   "execution_count": 392,
   "id": "08b271c4-fd35-404c-adaa-fb6330451864",
   "metadata": {},
   "outputs": [],
   "source": [
    "selected_X2 = X.copy().drop([\"Chloramines\", \"Trihalomethanes\",\"Solids\",\"ph\"], axis=1)"
   ]
  },
  {
   "cell_type": "code",
   "execution_count": 353,
   "id": "ca02ee3d-5174-476c-a4cc-e379e9dd74f1",
   "metadata": {},
   "outputs": [],
   "source": [
    "selected_X = X.copy().drop([\"Chloramines\", \"Trihalomethanes\",\"Solids\"], axis=1)"
   ]
  },
  {
   "cell_type": "code",
   "execution_count": 354,
   "id": "49a7bc33-67d0-4f2f-b65a-dc80d8769ad2",
   "metadata": {},
   "outputs": [],
   "source": [
    "X_train, X_test, y_train, y_test = train_test_split(selected_X,y, random_state=42, test_size=0.2)"
   ]
  },
  {
   "cell_type": "code",
   "execution_count": 355,
   "id": "79b45493-60a1-40c9-be4a-19a710ab5896",
   "metadata": {},
   "outputs": [
    {
     "data": {
      "text/html": [
       "<div>\n",
       "<style scoped>\n",
       "    .dataframe tbody tr th:only-of-type {\n",
       "        vertical-align: middle;\n",
       "    }\n",
       "\n",
       "    .dataframe tbody tr th {\n",
       "        vertical-align: top;\n",
       "    }\n",
       "\n",
       "    .dataframe thead th {\n",
       "        text-align: right;\n",
       "    }\n",
       "</style>\n",
       "<table border=\"1\" class=\"dataframe\">\n",
       "  <thead>\n",
       "    <tr style=\"text-align: right;\">\n",
       "      <th></th>\n",
       "      <th>ph</th>\n",
       "      <th>Hardness</th>\n",
       "      <th>Sulfate</th>\n",
       "      <th>Conductivity</th>\n",
       "      <th>Organic_carbon</th>\n",
       "      <th>Turbidity</th>\n",
       "    </tr>\n",
       "  </thead>\n",
       "  <tbody>\n",
       "    <tr>\n",
       "      <th>233</th>\n",
       "      <td>6.623614</td>\n",
       "      <td>203.030141</td>\n",
       "      <td>311.726288</td>\n",
       "      <td>410.243247</td>\n",
       "      <td>15.914500</td>\n",
       "      <td>2.915166</td>\n",
       "    </tr>\n",
       "    <tr>\n",
       "      <th>831</th>\n",
       "      <td>6.684700</td>\n",
       "      <td>193.840931</td>\n",
       "      <td>344.535407</td>\n",
       "      <td>498.063996</td>\n",
       "      <td>8.818757</td>\n",
       "      <td>4.030660</td>\n",
       "    </tr>\n",
       "    <tr>\n",
       "      <th>2658</th>\n",
       "      <td>6.836060</td>\n",
       "      <td>205.667718</td>\n",
       "      <td>297.837188</td>\n",
       "      <td>494.484249</td>\n",
       "      <td>13.808923</td>\n",
       "      <td>4.952508</td>\n",
       "    </tr>\n",
       "    <tr>\n",
       "      <th>2495</th>\n",
       "      <td>7.036752</td>\n",
       "      <td>183.488839</td>\n",
       "      <td>319.870584</td>\n",
       "      <td>482.445026</td>\n",
       "      <td>13.309723</td>\n",
       "      <td>3.240419</td>\n",
       "    </tr>\n",
       "    <tr>\n",
       "      <th>2603</th>\n",
       "      <td>6.406798</td>\n",
       "      <td>182.885137</td>\n",
       "      <td>332.486731</td>\n",
       "      <td>398.779746</td>\n",
       "      <td>17.301617</td>\n",
       "      <td>4.573968</td>\n",
       "    </tr>\n",
       "  </tbody>\n",
       "</table>\n",
       "</div>"
      ],
      "text/plain": [
       "            ph    Hardness     Sulfate  Conductivity  Organic_carbon   \n",
       "233   6.623614  203.030141  311.726288    410.243247       15.914500  \\\n",
       "831   6.684700  193.840931  344.535407    498.063996        8.818757   \n",
       "2658  6.836060  205.667718  297.837188    494.484249       13.808923   \n",
       "2495  7.036752  183.488839  319.870584    482.445026       13.309723   \n",
       "2603  6.406798  182.885137  332.486731    398.779746       17.301617   \n",
       "\n",
       "      Turbidity  \n",
       "233    2.915166  \n",
       "831    4.030660  \n",
       "2658   4.952508  \n",
       "2495   3.240419  \n",
       "2603   4.573968  "
      ]
     },
     "execution_count": 355,
     "metadata": {},
     "output_type": "execute_result"
    }
   ],
   "source": [
    "X_train.head()"
   ]
  },
  {
   "cell_type": "code",
   "execution_count": 350,
   "id": "79beadc3-9393-46ec-ba3a-08b044c7ce2b",
   "metadata": {},
   "outputs": [],
   "source": [
    "new_rfc = RandomForestClassifier(max_depth=5, random_state=0)"
   ]
  },
  {
   "cell_type": "code",
   "execution_count": 351,
   "id": "90015dd4-7e24-46f9-aa63-5d4532ddcaa2",
   "metadata": {},
   "outputs": [],
   "source": [
    "cross_val_rfc = cross_val_score(new_rfc,selected_X,y, cv=10)"
   ]
  },
  {
   "cell_type": "code",
   "execution_count": 352,
   "id": "a11bb0e1-f5cf-4443-8a10-e4f8d62b74c1",
   "metadata": {},
   "outputs": [
    {
     "data": {
      "text/plain": [
       "array([0.6097561 , 0.62195122, 0.64939024, 0.6402439 , 0.6554878 ,\n",
       "       0.58841463, 0.60856269, 0.62385321, 0.62996942, 0.62996942])"
      ]
     },
     "execution_count": 352,
     "metadata": {},
     "output_type": "execute_result"
    }
   ],
   "source": [
    "cross_val_rfc"
   ]
  },
  {
   "cell_type": "code",
   "execution_count": 359,
   "id": "c3029147-aedf-4cf4-b509-744f7149497a",
   "metadata": {},
   "outputs": [
    {
     "data": {
      "text/plain": [
       "array([0.625     , 0.62804878, 0.64634146, 0.64634146, 0.65243902,\n",
       "       0.54268293, 0.58103976, 0.62691131, 0.64831804, 0.62079511])"
      ]
     },
     "execution_count": 359,
     "metadata": {},
     "output_type": "execute_result"
    }
   ],
   "source": [
    "new_rfc2 = RandomForestClassifier(max_depth=5, random_state=0)\n",
    "cross_val_rfc2 = cross_val_score(new_rfc,selected_X,y, cv=10)\n",
    "cross_val_rfc2"
   ]
  },
  {
   "cell_type": "code",
   "execution_count": 388,
   "id": "b23a2208-13d9-4231-a636-4ee8afebb457",
   "metadata": {},
   "outputs": [],
   "source": [
    "from sklearn.ensemble import AdaBoostClassifier, BaggingClassifier, GradientBoostingClassifier\n",
    "from sklearn.tree import DecisionTreeClassifier, ExtraTreeClassifier\n",
    "from sklearn.neighbors import KNeighborsClassifier"
   ]
  },
  {
   "cell_type": "markdown",
   "id": "2c1736e7-ad00-440a-a6da-ebc8a1e61808",
   "metadata": {},
   "source": [
    "### With all the features"
   ]
  },
  {
   "cell_type": "code",
   "execution_count": 390,
   "id": "5ae04d62-e240-4060-b219-debcafd8278a",
   "metadata": {},
   "outputs": [
    {
     "data": {
      "text/html": [
       "<style type=\"text/css\">\n",
       "#T_8fb10_row0_col1 {\n",
       "  background-color: #fff7fb;\n",
       "  color: #000000;\n",
       "}\n",
       "#T_8fb10_row1_col1 {\n",
       "  background-color: #e0deed;\n",
       "  color: #000000;\n",
       "}\n",
       "#T_8fb10_row2_col1 {\n",
       "  background-color: #78abd0;\n",
       "  color: #f1f1f1;\n",
       "}\n",
       "#T_8fb10_row3_col1 {\n",
       "  background-color: #3f93c2;\n",
       "  color: #f1f1f1;\n",
       "}\n",
       "#T_8fb10_row4_col1 {\n",
       "  background-color: #0872b1;\n",
       "  color: #f1f1f1;\n",
       "}\n",
       "#T_8fb10_row5_col1 {\n",
       "  background-color: #0569a5;\n",
       "  color: #f1f1f1;\n",
       "}\n",
       "#T_8fb10_row6_col1 {\n",
       "  background-color: #04629a;\n",
       "  color: #f1f1f1;\n",
       "}\n",
       "#T_8fb10_row7_col1 {\n",
       "  background-color: #023858;\n",
       "  color: #f1f1f1;\n",
       "}\n",
       "</style>\n",
       "<table id=\"T_8fb10\">\n",
       "  <thead>\n",
       "    <tr>\n",
       "      <th class=\"blank level0\" >&nbsp;</th>\n",
       "      <th id=\"T_8fb10_level0_col0\" class=\"col_heading level0 col0\" >model</th>\n",
       "      <th id=\"T_8fb10_level0_col1\" class=\"col_heading level0 col1\" >cv_score</th>\n",
       "    </tr>\n",
       "  </thead>\n",
       "  <tbody>\n",
       "    <tr>\n",
       "      <th id=\"T_8fb10_level0_row0\" class=\"row_heading level0 row0\" >6</th>\n",
       "      <td id=\"T_8fb10_row0_col0\" class=\"data row0 col0\" >ExtraTreeClassifier()</td>\n",
       "      <td id=\"T_8fb10_row0_col1\" class=\"data row0 col1\" >0.539389</td>\n",
       "    </tr>\n",
       "    <tr>\n",
       "      <th id=\"T_8fb10_level0_row1\" class=\"row_heading level0 row1\" >7</th>\n",
       "      <td id=\"T_8fb10_row1_col0\" class=\"data row1 col0\" >KNeighborsClassifier()</td>\n",
       "      <td id=\"T_8fb10_row1_col1\" class=\"data row1 col1\" >0.555246</td>\n",
       "    </tr>\n",
       "    <tr>\n",
       "      <th id=\"T_8fb10_level0_row2\" class=\"row_heading level0 row2\" >5</th>\n",
       "      <td id=\"T_8fb10_row2_col0\" class=\"data row2 col0\" >DecisionTreeClassifier()</td>\n",
       "      <td id=\"T_8fb10_row2_col1\" class=\"data row2 col1\" >0.583336</td>\n",
       "    </tr>\n",
       "    <tr>\n",
       "      <th id=\"T_8fb10_level0_row3\" class=\"row_heading level0 row3\" >1</th>\n",
       "      <td id=\"T_8fb10_row3_col0\" class=\"data row3 col0\" >AdaBoostClassifier()</td>\n",
       "      <td id=\"T_8fb10_row3_col1\" class=\"data row3 col1\" >0.593715</td>\n",
       "    </tr>\n",
       "    <tr>\n",
       "      <th id=\"T_8fb10_level0_row4\" class=\"row_heading level0 row4\" >3</th>\n",
       "      <td id=\"T_8fb10_row4_col0\" class=\"data row4 col0\" >BaggingClassifier()</td>\n",
       "      <td id=\"T_8fb10_row4_col1\" class=\"data row4 col1\" >0.605619</td>\n",
       "    </tr>\n",
       "    <tr>\n",
       "      <th id=\"T_8fb10_level0_row5\" class=\"row_heading level0 row5\" >0</th>\n",
       "      <td id=\"T_8fb10_row5_col0\" class=\"data row5 col0\" >LogisticRegression(max_iter=1500)</td>\n",
       "      <td id=\"T_8fb10_row5_col1\" class=\"data row5 col1\" >0.609890</td>\n",
       "    </tr>\n",
       "    <tr>\n",
       "      <th id=\"T_8fb10_level0_row6\" class=\"row_heading level0 row6\" >4</th>\n",
       "      <td id=\"T_8fb10_row6_col0\" class=\"data row6 col0\" >GradientBoostingClassifier()</td>\n",
       "      <td id=\"T_8fb10_row6_col1\" class=\"data row6 col1\" >0.613260</td>\n",
       "    </tr>\n",
       "    <tr>\n",
       "      <th id=\"T_8fb10_level0_row7\" class=\"row_heading level0 row7\" >2</th>\n",
       "      <td id=\"T_8fb10_row7_col0\" class=\"data row7 col0\" >RandomForestClassifier(max_depth=5, random_state=0)</td>\n",
       "      <td id=\"T_8fb10_row7_col1\" class=\"data row7 col1\" >0.628821</td>\n",
       "    </tr>\n",
       "  </tbody>\n",
       "</table>\n"
      ],
      "text/plain": [
       "<pandas.io.formats.style.Styler at 0x28b2f4190>"
      ]
     },
     "execution_count": 390,
     "metadata": {},
     "output_type": "execute_result"
    }
   ],
   "source": [
    "mod = []\n",
    "cv_score=[]\n",
    "model =[LogisticRegression(max_iter=1500),AdaBoostClassifier(),RandomForestClassifier(max_depth=5, random_state=0), BaggingClassifier(), GradientBoostingClassifier(), DecisionTreeClassifier(), ExtraTreeClassifier(), KNeighborsClassifier()]\n",
    "for m in model:\n",
    "    cv_score.append(cross_val_score(m, X, y, scoring='accuracy', cv=5).mean())\n",
    "    mod.append(m)\n",
    "model_df=pd.DataFrame(columns=['model','cv_score'])\n",
    "model_df['model']=mod\n",
    "model_df['cv_score']=cv_score\n",
    "model_df.sort_values(by=['cv_score'], ascending=True).style.background_gradient(subset=['cv_score'])"
   ]
  },
  {
   "cell_type": "markdown",
   "id": "493d33b1-293b-4267-8551-816becace6f3",
   "metadata": {},
   "source": [
    "### Without \"Chloramines\", \"Trihalomethanes\",\"Solids\""
   ]
  },
  {
   "cell_type": "code",
   "execution_count": 391,
   "id": "bf5376dc-5c4f-4c19-b413-18d9b22158ca",
   "metadata": {},
   "outputs": [
    {
     "data": {
      "text/html": [
       "<style type=\"text/css\">\n",
       "#T_2743e_row0_col1 {\n",
       "  background-color: #fff7fb;\n",
       "  color: #000000;\n",
       "}\n",
       "#T_2743e_row1_col1 {\n",
       "  background-color: #f8f1f8;\n",
       "  color: #000000;\n",
       "}\n",
       "#T_2743e_row2_col1 {\n",
       "  background-color: #dfddec;\n",
       "  color: #000000;\n",
       "}\n",
       "#T_2743e_row3_col1 {\n",
       "  background-color: #2081b9;\n",
       "  color: #f1f1f1;\n",
       "}\n",
       "#T_2743e_row4_col1 {\n",
       "  background-color: #0f76b3;\n",
       "  color: #f1f1f1;\n",
       "}\n",
       "#T_2743e_row5_col1 {\n",
       "  background-color: #056ba7;\n",
       "  color: #f1f1f1;\n",
       "}\n",
       "#T_2743e_row6_col1 {\n",
       "  background-color: #03456c;\n",
       "  color: #f1f1f1;\n",
       "}\n",
       "#T_2743e_row7_col1 {\n",
       "  background-color: #023858;\n",
       "  color: #f1f1f1;\n",
       "}\n",
       "</style>\n",
       "<table id=\"T_2743e\">\n",
       "  <thead>\n",
       "    <tr>\n",
       "      <th class=\"blank level0\" >&nbsp;</th>\n",
       "      <th id=\"T_2743e_level0_col0\" class=\"col_heading level0 col0\" >model</th>\n",
       "      <th id=\"T_2743e_level0_col1\" class=\"col_heading level0 col1\" >cv_score</th>\n",
       "    </tr>\n",
       "  </thead>\n",
       "  <tbody>\n",
       "    <tr>\n",
       "      <th id=\"T_2743e_level0_row0\" class=\"row_heading level0 row0\" >5</th>\n",
       "      <td id=\"T_2743e_row0_col0\" class=\"data row0 col0\" >DecisionTreeClassifier()</td>\n",
       "      <td id=\"T_2743e_row0_col1\" class=\"data row0 col1\" >0.547622</td>\n",
       "    </tr>\n",
       "    <tr>\n",
       "      <th id=\"T_2743e_level0_row1\" class=\"row_heading level0 row1\" >6</th>\n",
       "      <td id=\"T_2743e_row1_col0\" class=\"data row1 col0\" >ExtraTreeClassifier()</td>\n",
       "      <td id=\"T_2743e_row1_col1\" class=\"data row1 col1\" >0.551587</td>\n",
       "    </tr>\n",
       "    <tr>\n",
       "      <th id=\"T_2743e_level0_row2\" class=\"row_heading level0 row2\" >7</th>\n",
       "      <td id=\"T_2743e_row2_col0\" class=\"data row2 col0\" >KNeighborsClassifier()</td>\n",
       "      <td id=\"T_2743e_row2_col1\" class=\"data row2 col1\" >0.562276</td>\n",
       "    </tr>\n",
       "    <tr>\n",
       "      <th id=\"T_2743e_level0_row3\" class=\"row_heading level0 row3\" >1</th>\n",
       "      <td id=\"T_2743e_row3_col0\" class=\"data row3 col0\" >AdaBoostClassifier()</td>\n",
       "      <td id=\"T_2743e_row3_col1\" class=\"data row3 col1\" >0.601954</td>\n",
       "    </tr>\n",
       "    <tr>\n",
       "      <th id=\"T_2743e_level0_row4\" class=\"row_heading level0 row4\" >3</th>\n",
       "      <td id=\"T_2743e_row4_col0\" class=\"data row4 col0\" >BaggingClassifier()</td>\n",
       "      <td id=\"T_2743e_row4_col1\" class=\"data row4 col1\" >0.605314</td>\n",
       "    </tr>\n",
       "    <tr>\n",
       "      <th id=\"T_2743e_level0_row5\" class=\"row_heading level0 row5\" >0</th>\n",
       "      <td id=\"T_2743e_row5_col0\" class=\"data row5 col0\" >LogisticRegression(max_iter=1500)</td>\n",
       "      <td id=\"T_2743e_row5_col1\" class=\"data row5 col1\" >0.609585</td>\n",
       "    </tr>\n",
       "    <tr>\n",
       "      <th id=\"T_2743e_level0_row6\" class=\"row_heading level0 row6\" >2</th>\n",
       "      <td id=\"T_2743e_row6_col0\" class=\"data row6 col0\" >RandomForestClassifier(max_depth=5, random_state=0)</td>\n",
       "      <td id=\"T_2743e_row6_col1\" class=\"data row6 col1\" >0.623327</td>\n",
       "    </tr>\n",
       "    <tr>\n",
       "      <th id=\"T_2743e_level0_row7\" class=\"row_heading level0 row7\" >4</th>\n",
       "      <td id=\"T_2743e_row7_col0\" class=\"data row7 col0\" >GradientBoostingClassifier()</td>\n",
       "      <td id=\"T_2743e_row7_col1\" class=\"data row7 col1\" >0.627298</td>\n",
       "    </tr>\n",
       "  </tbody>\n",
       "</table>\n"
      ],
      "text/plain": [
       "<pandas.io.formats.style.Styler at 0x17f5e27a0>"
      ]
     },
     "execution_count": 391,
     "metadata": {},
     "output_type": "execute_result"
    }
   ],
   "source": [
    "mod = []\n",
    "cv_score=[]\n",
    "model =[LogisticRegression(max_iter=1500),AdaBoostClassifier(),RandomForestClassifier(max_depth=5, random_state=0), BaggingClassifier(), GradientBoostingClassifier(), DecisionTreeClassifier(), ExtraTreeClassifier(), KNeighborsClassifier()]\n",
    "for m in model:\n",
    "    cv_score.append(cross_val_score(m, selected_X, y, scoring='accuracy', cv=5).mean())\n",
    "    mod.append(m)\n",
    "model_df=pd.DataFrame(columns=['model','cv_score'])\n",
    "model_df['model']=mod\n",
    "model_df['cv_score']=cv_score\n",
    "model_df.sort_values(by=['cv_score'], ascending=True).style.background_gradient(subset=['cv_score'])"
   ]
  },
  {
   "cell_type": "markdown",
   "id": "fda03cf0-235e-4f6b-81cf-0a2434f79c14",
   "metadata": {},
   "source": [
    "### without \"ph\" values"
   ]
  },
  {
   "cell_type": "code",
   "execution_count": 393,
   "id": "1a7d1507-5916-4622-b483-1a496361b02d",
   "metadata": {},
   "outputs": [
    {
     "data": {
      "text/html": [
       "<style type=\"text/css\">\n",
       "#T_a94f6_row0_col1 {\n",
       "  background-color: #fff7fb;\n",
       "  color: #000000;\n",
       "}\n",
       "#T_a94f6_row1_col1 {\n",
       "  background-color: #ede8f3;\n",
       "  color: #000000;\n",
       "}\n",
       "#T_a94f6_row2_col1 {\n",
       "  background-color: #88b1d4;\n",
       "  color: #000000;\n",
       "}\n",
       "#T_a94f6_row3_col1 {\n",
       "  background-color: #1379b5;\n",
       "  color: #f1f1f1;\n",
       "}\n",
       "#T_a94f6_row4_col1 {\n",
       "  background-color: #045a8d;\n",
       "  color: #f1f1f1;\n",
       "}\n",
       "#T_a94f6_row5_col1 {\n",
       "  background-color: #034c78;\n",
       "  color: #f1f1f1;\n",
       "}\n",
       "#T_a94f6_row6_col1 {\n",
       "  background-color: #023c5f;\n",
       "  color: #f1f1f1;\n",
       "}\n",
       "#T_a94f6_row7_col1 {\n",
       "  background-color: #023858;\n",
       "  color: #f1f1f1;\n",
       "}\n",
       "</style>\n",
       "<table id=\"T_a94f6\">\n",
       "  <thead>\n",
       "    <tr>\n",
       "      <th class=\"blank level0\" >&nbsp;</th>\n",
       "      <th id=\"T_a94f6_level0_col0\" class=\"col_heading level0 col0\" >model</th>\n",
       "      <th id=\"T_a94f6_level0_col1\" class=\"col_heading level0 col1\" >cv_score</th>\n",
       "    </tr>\n",
       "  </thead>\n",
       "  <tbody>\n",
       "    <tr>\n",
       "      <th id=\"T_a94f6_level0_row0\" class=\"row_heading level0 row0\" >5</th>\n",
       "      <td id=\"T_a94f6_row0_col0\" class=\"data row0 col0\" >DecisionTreeClassifier()</td>\n",
       "      <td id=\"T_a94f6_row0_col1\" class=\"data row0 col1\" >0.520462</td>\n",
       "    </tr>\n",
       "    <tr>\n",
       "      <th id=\"T_a94f6_level0_row1\" class=\"row_heading level0 row1\" >6</th>\n",
       "      <td id=\"T_a94f6_row1_col0\" class=\"data row1 col0\" >ExtraTreeClassifier()</td>\n",
       "      <td id=\"T_a94f6_row1_col1\" class=\"data row1 col1\" >0.531138</td>\n",
       "    </tr>\n",
       "    <tr>\n",
       "      <th id=\"T_a94f6_level0_row2\" class=\"row_heading level0 row2\" >7</th>\n",
       "      <td id=\"T_a94f6_row2_col0\" class=\"data row2 col0\" >KNeighborsClassifier()</td>\n",
       "      <td id=\"T_a94f6_row2_col1\" class=\"data row2 col1\" >0.561668</td>\n",
       "    </tr>\n",
       "    <tr>\n",
       "      <th id=\"T_a94f6_level0_row3\" class=\"row_heading level0 row3\" >3</th>\n",
       "      <td id=\"T_a94f6_row3_col0\" class=\"data row3 col0\" >BaggingClassifier()</td>\n",
       "      <td id=\"T_a94f6_row3_col1\" class=\"data row3 col1\" >0.585173</td>\n",
       "    </tr>\n",
       "    <tr>\n",
       "      <th id=\"T_a94f6_level0_row4\" class=\"row_heading level0 row4\" >4</th>\n",
       "      <td id=\"T_a94f6_row4_col0\" class=\"data row4 col0\" >GradientBoostingClassifier()</td>\n",
       "      <td id=\"T_a94f6_row4_col1\" class=\"data row4 col1\" >0.599827</td>\n",
       "    </tr>\n",
       "    <tr>\n",
       "      <th id=\"T_a94f6_level0_row5\" class=\"row_heading level0 row5\" >1</th>\n",
       "      <td id=\"T_a94f6_row5_col0\" class=\"data row5 col0\" >AdaBoostClassifier()</td>\n",
       "      <td id=\"T_a94f6_row5_col1\" class=\"data row5 col1\" >0.604395</td>\n",
       "    </tr>\n",
       "    <tr>\n",
       "      <th id=\"T_a94f6_level0_row6\" class=\"row_heading level0 row6\" >0</th>\n",
       "      <td id=\"T_a94f6_row6_col0\" class=\"data row6 col0\" >LogisticRegression(max_iter=1500)</td>\n",
       "      <td id=\"T_a94f6_row6_col1\" class=\"data row6 col1\" >0.609890</td>\n",
       "    </tr>\n",
       "    <tr>\n",
       "      <th id=\"T_a94f6_level0_row7\" class=\"row_heading level0 row7\" >2</th>\n",
       "      <td id=\"T_a94f6_row7_col0\" class=\"data row7 col0\" >RandomForestClassifier(max_depth=5, random_state=0)</td>\n",
       "      <td id=\"T_a94f6_row7_col1\" class=\"data row7 col1\" >0.611419</td>\n",
       "    </tr>\n",
       "  </tbody>\n",
       "</table>\n"
      ],
      "text/plain": [
       "<pandas.io.formats.style.Styler at 0x28b363280>"
      ]
     },
     "execution_count": 393,
     "metadata": {},
     "output_type": "execute_result"
    }
   ],
   "source": [
    "mod = []\n",
    "cv_score=[]\n",
    "model =[LogisticRegression(max_iter=1500),AdaBoostClassifier(),RandomForestClassifier(max_depth=5, random_state=0), BaggingClassifier(), GradientBoostingClassifier(), DecisionTreeClassifier(), ExtraTreeClassifier(), KNeighborsClassifier()]\n",
    "for m in model:\n",
    "    cv_score.append(cross_val_score(m, selected_X2, y, scoring='accuracy', cv=5).mean())\n",
    "    mod.append(m)\n",
    "model_df=pd.DataFrame(columns=['model','cv_score'])\n",
    "model_df['model']=mod\n",
    "model_df['cv_score']=cv_score\n",
    "model_df.sort_values(by=['cv_score'], ascending=True).style.background_gradient(subset=['cv_score'])"
   ]
  },
  {
   "cell_type": "markdown",
   "id": "1efed73c-db2e-4ed4-9877-1d6e0f36d004",
   "metadata": {},
   "source": [
    "## Chi-square Test"
   ]
  },
  {
   "cell_type": "code",
   "execution_count": 337,
   "id": "eceefabb-d294-4f01-8c40-19a3f27a4169",
   "metadata": {},
   "outputs": [],
   "source": [
    "from sklearn.feature_selection import SelectKBest, chi2"
   ]
  },
  {
   "cell_type": "code",
   "execution_count": 339,
   "id": "359d2d31-ace8-4ecf-86ca-35b8b13927de",
   "metadata": {},
   "outputs": [],
   "source": [
    "chi2_features = SelectKBest(chi2, k=5)\n",
    "X_kbest_features = chi2_features.fit_transform(X,y)"
   ]
  },
  {
   "cell_type": "code",
   "execution_count": 340,
   "id": "259ba1cf-7024-453b-9dfc-fa35a6e09207",
   "metadata": {},
   "outputs": [
    {
     "name": "stdout",
     "output_type": "stream",
     "text": [
      "Original feature number:  9\n",
      "Reduced feature number:  5\n"
     ]
    }
   ],
   "source": [
    "print(\"Original feature number: \", X.shape[1])\n",
    "print(\"Reduced feature number: \", X_kbest_features.shape[1])"
   ]
  },
  {
   "cell_type": "code",
   "execution_count": 394,
   "id": "a9eaaf9e-a0b2-4ecd-9edb-c6d881fd4086",
   "metadata": {},
   "outputs": [
    {
     "data": {
      "text/plain": [
       "Potability\n",
       "0    0.60989\n",
       "1    0.39011\n",
       "Name: count, dtype: float64"
      ]
     },
     "execution_count": 394,
     "metadata": {},
     "output_type": "execute_result"
    }
   ],
   "source": [
    "y.value_counts() / len(y)"
   ]
  },
  {
   "cell_type": "code",
   "execution_count": null,
   "id": "fef8265c-f1a3-4116-bf71-f75156209e2b",
   "metadata": {},
   "outputs": [],
   "source": []
  }
 ],
 "metadata": {
  "kernelspec": {
   "display_name": "Python 3 (ipykernel)",
   "language": "python",
   "name": "python3"
  },
  "language_info": {
   "codemirror_mode": {
    "name": "ipython",
    "version": 3
   },
   "file_extension": ".py",
   "mimetype": "text/x-python",
   "name": "python",
   "nbconvert_exporter": "python",
   "pygments_lexer": "ipython3",
   "version": "3.10.9"
  },
  "toc-autonumbering": true,
  "toc-showcode": false
 },
 "nbformat": 4,
 "nbformat_minor": 5
}
